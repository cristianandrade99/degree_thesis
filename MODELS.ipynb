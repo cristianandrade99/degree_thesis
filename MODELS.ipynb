{
 "cells": [
  {
   "cell_type": "markdown",
   "metadata": {},
   "source": [
    "**Libraries**"
   ]
  },
  {
   "cell_type": "code",
   "execution_count": 1,
   "metadata": {},
   "outputs": [],
   "source": [
    "import tensorflow as tf\n",
    "from tensorflow.keras import layers\n",
    "import matplotlib.pyplot as plt\n",
    "import numpy as np\n",
    "import time\n",
    "\n",
    "import conv_deconv_blocks as cdb\n",
    "import data_processing as dp\n",
    "import conv_deconv_models as md\n",
    "import cris_utils as cu"
   ]
  },
  {
   "cell_type": "markdown",
   "metadata": {},
   "source": [
    "**Tensorflow GPU Verification**"
   ]
  },
  {
   "cell_type": "code",
   "execution_count": 2,
   "metadata": {},
   "outputs": [
    {
     "name": "stdout",
     "output_type": "stream",
     "text": [
      "Versión de tensorflow: 2.1.0\n",
      "Comprobación de la GPU: [PhysicalDevice(name='/physical_device:GPU:0', device_type='GPU')] \n",
      "\n"
     ]
    }
   ],
   "source": [
    "print(\"Versión de tensorflow: \" + str(tf.__version__))\n",
    "print(\"Comprobación de la GPU:\",tf.config.experimental.list_physical_devices('GPU'),\"\\n\")"
   ]
  },
  {
   "cell_type": "code",
   "execution_count": 3,
   "metadata": {},
   "outputs": [],
   "source": [
    "#run_description = sys.argv[1] if len(sys.argv)>1 else \"DEFAULT\"\n",
    "run_description = \"DEFAULT\""
   ]
  },
  {
   "cell_type": "markdown",
   "metadata": {},
   "source": [
    "# CVAE"
   ]
  },
  {
   "cell_type": "markdown",
   "metadata": {},
   "source": [
    "**Model Arquitecture**"
   ]
  },
  {
   "cell_type": "code",
   "execution_count": 4,
   "metadata": {},
   "outputs": [
    {
     "name": "stdout",
     "output_type": "stream",
     "text": [
      "for H,W = 64, # deconv layers and # conv layers <= 6\n",
      "(# conv layers, heigh,width of last enc volume)\n",
      "(# deconv layers, heigh,width of first dec volume)\n",
      "[(1, 32), (2, 16), (3, 8), (4, 4), (5, 2), (6, 1)] \n",
      "\n"
     ]
    }
   ],
   "source": [
    "N_H = 64\n",
    "N_W = 64\n",
    "N_C = 1\n",
    "\n",
    "cvae_enc_convs = [(16,True,cdb.lr_act,3,2),\n",
    "              (32,False,cdb.lr_act,3,2),\n",
    "              (64,True,cdb.lr_act,3,2),\n",
    "             (128,False,cdb.lr_act,3,2),\n",
    "             (256,False,cdb.lr_act,3,2)]\n",
    "\n",
    "cvae_dec_deconvs = [(512,True,cdb.r_act,3,2),\n",
    "               (256,True,cdb.r_act,3,2),\n",
    "               (128,True,cdb.r_act,3,2),\n",
    "               (64,True,cdb.r_act,3,2),\n",
    "               (N_C,False,cdb.th_act,3,2)]\n",
    "\n",
    "n_cvae_conv_ls = len(cvae_enc_convs)\n",
    "n_cvae_deconv_ls = len(cvae_dec_deconvs)\n",
    "\n",
    "max_layers = cu.max_conv_deconv_layers(N_H)\n",
    "assert (n_cvae_conv_ls<=max_layers and n_cvae_deconv_ls<=max_layers), \"Incorrect number of layers for cvae model\"\n",
    "\n",
    "config = {\n",
    "    md.batch_size_k: 16,\n",
    "    md.latent_dim_k: 100,\n",
    "    md.data_dir_patt_k: [\"data_FVC2006\",\"png\"],\n",
    "    md.fps_shape_k: (N_H,N_W,N_C)\n",
    "}\n",
    "\n",
    "cvae_enc_config = {\n",
    "    cdb.fps_shape_k: config[md.fps_shape_k],\n",
    "    cdb.enc_dec_lys_info_k: cvae_enc_convs,\n",
    "    cdb.enc_fin_den_len_k: 2*config[md.latent_dim_k]\n",
    "}\n",
    "\n",
    "hw_f_v = N_H/np.power(2,n_cvae_deconv_ls)\n",
    "\n",
    "cvae_dec_config = {\n",
    "    cdb.dec_den_info_k: ([hw_f_v,hw_f_v,256],False,cdb.r_act,(config[md.latent_dim_k],)),\n",
    "    cdb.enc_dec_lys_info_k: cvae_dec_deconvs,\n",
    "}"
   ]
  },
  {
   "cell_type": "markdown",
   "metadata": {},
   "source": [
    "**Data Preparation**"
   ]
  },
  {
   "cell_type": "code",
   "execution_count": 5,
   "metadata": {},
   "outputs": [
    {
     "data": {
      "image/png": "[encoded data removed]",
      "text/plain": [
       "<Figure size 432x288 with 1 Axes>"
      ]
     },
     "metadata": {
      "needs_background": "light"
     },
     "output_type": "display_data"
    }
   ],
   "source": [
    "ds_data_dirs = dp.load_process_fp_dataset(config[md.data_dir_patt_k],config[md.fps_shape_k],config[md.batch_size_k])\n",
    "l = list(ds_data_dirs.as_numpy_iterator())\n",
    "cu.imshow(l[0][0,:])"
   ]
  },
  {
   "cell_type": "markdown",
   "metadata": {},
   "source": [
    "**Creation of Model**"
   ]
  },
  {
   "cell_type": "code",
   "execution_count": 6,
   "metadata": {},
   "outputs": [],
   "source": [
    "cvae = md.CVAE(cvae_enc_config,cvae_dec_config,config,run_description)"
   ]
  },
  {
   "cell_type": "markdown",
   "metadata": {},
   "source": [
    "**CVAE Training Configuration**"
   ]
  },
  {
   "cell_type": "code",
   "execution_count": 7,
   "metadata": {},
   "outputs": [],
   "source": [
    "cvae_train_conf = {\n",
    "    md.num_epochs_k: 5,\n",
    "    md.num_images_k: 5,\n",
    "    md.checkpoints_frecuency_k: 5,\n",
    "    md.use_latest_checkpoint_k: False,\n",
    "    md.types_losses_k: [md.square_loss,md.kl_loss,md.ssim_loss],\n",
    "    md.alphas_losses_k: [1.0,0.01,0.5],\n",
    "    md.learning_rate_k: 0.0002,\n",
    "    md.dataset_k: ds_data_dirs\n",
    "}"
   ]
  },
  {
   "cell_type": "markdown",
   "metadata": {},
   "source": [
    "**Model Training**"
   ]
  },
  {
   "cell_type": "code",
   "execution_count": 8,
   "metadata": {},
   "outputs": [],
   "source": [
    "#cvae.train(cvae_train_conf)"
   ]
  },
  {
   "cell_type": "markdown",
   "metadata": {},
   "source": [
    "# GAN_CVAE"
   ]
  },
  {
   "cell_type": "markdown",
   "metadata": {},
   "source": [
    "**Model Arquitecture**"
   ]
  },
  {
   "cell_type": "code",
   "execution_count": 9,
   "metadata": {},
   "outputs": [
    {
     "name": "stdout",
     "output_type": "stream",
     "text": [
      "for H,W = 64, # deconv layers and # conv layers <= 6\n",
      "(# conv layers, heigh,width of last enc volume)\n",
      "(# deconv layers, heigh,width of first dec volume)\n",
      "[(1, 32), (2, 16), (3, 8), (4, 4), (5, 2), (6, 1)] \n",
      "\n"
     ]
    }
   ],
   "source": [
    "N_H = 64\n",
    "N_W = 64\n",
    "N_C = 1\n",
    "\n",
    "cvae_enc_convs = [(16,True,cdb.lr_act,3,2),\n",
    "              (32,False,cdb.lr_act,3,2),\n",
    "              (64,True,cdb.lr_act,3,2),\n",
    "             (128,False,cdb.lr_act,3,2),\n",
    "             (256,False,cdb.lr_act,3,2)]\n",
    "\n",
    "cvae_dec_deconvs = [(512,True,cdb.r_act,3,2),\n",
    "               (256,True,cdb.r_act,3,2),\n",
    "               (128,True,cdb.r_act,3,2),\n",
    "               (64,True,cdb.r_act,3,2),\n",
    "               (N_C,False,cdb.th_act,3,2)]\n",
    "\n",
    "gan_disc_convs = [(64,False,cdb.lr_act,3,2),\n",
    "              (128,True,cdb.lr_act,3,2),\n",
    "              (256,True,cdb.lr_act,3,2),\n",
    "             (512,True,cdb.lr_act,3,2)]\n",
    "\n",
    "n_cvae_conv_ls = len(cvae_enc_convs)\n",
    "n_cvae_deconv_ls = len(cvae_dec_deconvs)\n",
    "\n",
    "max_layers = cu.max_conv_deconv_layers(N_H)\n",
    "assert (n_cvae_conv_ls<=max_layers and n_cvae_deconv_ls<=max_layers), \"Incorrect number of layers for cvae model\"\n",
    "\n",
    "config = {\n",
    "    md.batch_size_k: 16,\n",
    "    md.latent_dim_k: 100,\n",
    "    md.data_dir_patt_k: [\"data_FVC2006\",\"png\"],\n",
    "    md.fps_shape_k: (N_H,N_W,N_C)\n",
    "}\n",
    "\n",
    "cvae_enc_config = {\n",
    "    cdb.fps_shape_k: config[md.fps_shape_k],\n",
    "    cdb.enc_dec_lys_info_k: cvae_enc_convs,\n",
    "    cdb.enc_fin_den_len_k: 2*config[md.latent_dim_k]\n",
    "}\n",
    "\n",
    "hw_f_v = N_H/np.power(2,n_cvae_deconv_ls)\n",
    "\n",
    "cvae_dec_config = {\n",
    "    cdb.dec_den_info_k: ([hw_f_v,hw_f_v,256],False,cdb.r_act,(config[md.latent_dim_k],)),\n",
    "    cdb.enc_dec_lys_info_k: cvae_dec_deconvs,\n",
    "}\n",
    "\n",
    "gan_disc_config = {\n",
    "    cdb.fps_shape_k: config[md.fps_shape_k],\n",
    "    cdb.enc_dec_lys_info_k: gan_disc_convs,\n",
    "    cdb.enc_fin_den_len_k: 1\n",
    "}"
   ]
  },
  {
   "cell_type": "markdown",
   "metadata": {},
   "source": [
    "**Creation of Model**"
   ]
  },
  {
   "cell_type": "code",
   "execution_count": 10,
   "metadata": {},
   "outputs": [],
   "source": [
    "gan_cvae = md.GAN_CVAE(cvae_enc_config,cvae_dec_config,gan_disc_config,config,run_description)"
   ]
  },
  {
   "cell_type": "markdown",
   "metadata": {},
   "source": [
    "**GAN_CVAE Training Configuration**"
   ]
  },
  {
   "cell_type": "code",
   "execution_count": 11,
   "metadata": {},
   "outputs": [],
   "source": [
    "gan_cvae_train_conf = {\n",
    "    md.num_epochs_k: 5,\n",
    "    md.num_images_k: 5,\n",
    "    md.checkpoints_frecuency_k: 5,\n",
    "    md.use_latest_checkpoint_k: False,\n",
    "    md.disc_learning_rate_k: 0.0002,\n",
    "    md.gen_learning_rate_k: 0.0002,\n",
    "    md.dataset_k: ds_data_dirs,\n",
    "}"
   ]
  },
  {
   "cell_type": "markdown",
   "metadata": {},
   "source": [
    "**Model Training**"
   ]
  },
  {
   "cell_type": "code",
   "execution_count": 12,
   "metadata": {},
   "outputs": [
    {
     "name": "stdout",
     "output_type": "stream",
     "text": [
      "GAN CVAE training started\n"
     ]
    },
    {
     "ename": "ValueError",
     "evalue": "Expected scalar shape, saw shape: (8,).",
     "output_type": "error",
     "traceback": [
      "\u001b[1;31m---------------------------------------------------------------------------\u001b[0m",
      "\u001b[1;31mValueError\u001b[0m                                Traceback (most recent call last)",
      "\u001b[1;32m<ipython-input-12-2f314c6a82e6>\u001b[0m in \u001b[0;36m<module>\u001b[1;34m\u001b[0m\n\u001b[1;32m----> 1\u001b[1;33m \u001b[0mgan_cvae\u001b[0m\u001b[1;33m.\u001b[0m\u001b[0mtrain\u001b[0m\u001b[1;33m(\u001b[0m\u001b[0mgan_cvae_train_conf\u001b[0m\u001b[1;33m)\u001b[0m\u001b[1;33m\u001b[0m\u001b[1;33m\u001b[0m\u001b[0m\n\u001b[0m\u001b[0;32m      2\u001b[0m \u001b[1;32massert\u001b[0m\u001b[1;33m(\u001b[0m\u001b[1;32mFalse\u001b[0m\u001b[1;33m)\u001b[0m\u001b[1;33m\u001b[0m\u001b[1;33m\u001b[0m\u001b[0m\n",
      "\u001b[1;32m~\\Documents\\Universidad\\Tesis\\Codigo\\conv_deconv_models.py\u001b[0m in \u001b[0;36mtrain\u001b[1;34m(self, train_conf)\u001b[0m\n\u001b[0;32m    233\u001b[0m                 \u001b[0mactual_info\u001b[0m\u001b[1;33m,\u001b[0m\u001b[0mactual_gradients\u001b[0m \u001b[1;33m=\u001b[0m \u001b[0mself\u001b[0m\u001b[1;33m.\u001b[0m\u001b[0mtrain_step\u001b[0m\u001b[1;33m(\u001b[0m\u001b[0mfps_batch\u001b[0m\u001b[1;33m)\u001b[0m\u001b[1;33m\u001b[0m\u001b[1;33m\u001b[0m\u001b[0m\n\u001b[0;32m    234\u001b[0m \u001b[1;33m\u001b[0m\u001b[0m\n\u001b[1;32m--> 235\u001b[1;33m             \u001b[0mgans_data_to_tensorboard\u001b[0m\u001b[1;33m(\u001b[0m\u001b[0mactual_info\u001b[0m\u001b[1;33m,\u001b[0m\u001b[0mactual_gradients\u001b[0m\u001b[1;33m,\u001b[0m\u001b[0mepoch_index\u001b[0m\u001b[1;33m,\u001b[0m\u001b[0mtf_summary_writer\u001b[0m\u001b[1;33m)\u001b[0m\u001b[1;33m\u001b[0m\u001b[1;33m\u001b[0m\u001b[0m\n\u001b[0m\u001b[0;32m    236\u001b[0m             \u001b[0mprocessed_fps_progress_to_folder\u001b[0m\u001b[1;33m(\u001b[0m\u001b[0mepoch_index\u001b[0m\u001b[1;33m+\u001b[0m\u001b[1;36m1\u001b[0m\u001b[1;33m,\u001b[0m\u001b[0mnum_images\u001b[0m\u001b[1;33m,\u001b[0m\u001b[0mnum_epochs\u001b[0m\u001b[1;33m,\u001b[0m\u001b[0moutputs_folder\u001b[0m\u001b[1;33m,\u001b[0m\u001b[0mnum_progress_images\u001b[0m\u001b[1;33m,\u001b[0m\u001b[0mself\u001b[0m\u001b[1;33m.\u001b[0m\u001b[0mfps_shape\u001b[0m\u001b[1;33m,\u001b[0m\u001b[0mself\u001b[0m\u001b[1;33m.\u001b[0m\u001b[0mencode_decode_fps\u001b[0m\u001b[1;33m)\u001b[0m\u001b[1;33m\u001b[0m\u001b[1;33m\u001b[0m\u001b[0m\n\u001b[0;32m    237\u001b[0m             \u001b[0mself\u001b[0m\u001b[1;33m.\u001b[0m\u001b[0msave_checkpoint\u001b[0m\u001b[1;33m(\u001b[0m\u001b[0mepoch_index\u001b[0m\u001b[1;33m+\u001b[0m\u001b[1;36m1\u001b[0m\u001b[1;33m,\u001b[0m\u001b[0mcheckpoints_frecuency\u001b[0m\u001b[1;33m)\u001b[0m\u001b[1;33m\u001b[0m\u001b[1;33m\u001b[0m\u001b[0m\n",
      "\u001b[1;32m~\\Documents\\Universidad\\Tesis\\Codigo\\conv_deconv_models.py\u001b[0m in \u001b[0;36mgans_data_to_tensorboard\u001b[1;34m(actual_info, actual_gradients, epoch_index, tf_summary_writer)\u001b[0m\n\u001b[0;32m    406\u001b[0m     \u001b[1;32mwith\u001b[0m \u001b[0mtf_summary_writer\u001b[0m\u001b[1;33m.\u001b[0m\u001b[0mas_default\u001b[0m\u001b[1;33m(\u001b[0m\u001b[1;33m)\u001b[0m\u001b[1;33m:\u001b[0m\u001b[1;33m\u001b[0m\u001b[1;33m\u001b[0m\u001b[0m\n\u001b[0;32m    407\u001b[0m         \u001b[1;32mfor\u001b[0m \u001b[0mkey\u001b[0m \u001b[1;32min\u001b[0m \u001b[0mactual_info\u001b[0m\u001b[1;33m:\u001b[0m\u001b[1;33m\u001b[0m\u001b[1;33m\u001b[0m\u001b[0m\n\u001b[1;32m--> 408\u001b[1;33m             \u001b[0mtf\u001b[0m\u001b[1;33m.\u001b[0m\u001b[0msummary\u001b[0m\u001b[1;33m.\u001b[0m\u001b[0mscalar\u001b[0m\u001b[1;33m(\u001b[0m\u001b[0mkey\u001b[0m\u001b[1;33m,\u001b[0m\u001b[0mactual_info\u001b[0m\u001b[1;33m[\u001b[0m\u001b[0mkey\u001b[0m\u001b[1;33m]\u001b[0m\u001b[1;33m,\u001b[0m\u001b[0mstep\u001b[0m\u001b[1;33m=\u001b[0m\u001b[0mepoch_index\u001b[0m\u001b[1;33m)\u001b[0m\u001b[1;33m\u001b[0m\u001b[1;33m\u001b[0m\u001b[0m\n\u001b[0m\u001b[0;32m    409\u001b[0m         \u001b[1;32mfor\u001b[0m \u001b[0mkey\u001b[0m \u001b[1;32min\u001b[0m \u001b[0mactual_gradients\u001b[0m\u001b[1;33m:\u001b[0m\u001b[1;33m\u001b[0m\u001b[1;33m\u001b[0m\u001b[0m\n\u001b[0;32m    410\u001b[0m             \u001b[1;32mpass\u001b[0m\u001b[1;31m#tf.summary.histogram(key,actual_gradients,step=epoch_index)\u001b[0m\u001b[1;33m\u001b[0m\u001b[1;33m\u001b[0m\u001b[0m\n",
      "\u001b[1;32mc:\\program files\\python37\\virtual_environments\\tf210_gpu_env\\lib\\site-packages\\tensorboard\\plugins\\scalar\\summary_v2.py\u001b[0m in \u001b[0;36mscalar\u001b[1;34m(name, data, step, description)\u001b[0m\n\u001b[0;32m     59\u001b[0m   with summary_scope(\n\u001b[0;32m     60\u001b[0m       name, 'scalar_summary', values=[data, step]) as (tag, _):\n\u001b[1;32m---> 61\u001b[1;33m     \u001b[0mtf\u001b[0m\u001b[1;33m.\u001b[0m\u001b[0mdebugging\u001b[0m\u001b[1;33m.\u001b[0m\u001b[0massert_scalar\u001b[0m\u001b[1;33m(\u001b[0m\u001b[0mdata\u001b[0m\u001b[1;33m)\u001b[0m\u001b[1;33m\u001b[0m\u001b[1;33m\u001b[0m\u001b[0m\n\u001b[0m\u001b[0;32m     62\u001b[0m     return tf.summary.write(tag=tag,\n\u001b[0;32m     63\u001b[0m                             \u001b[0mtensor\u001b[0m\u001b[1;33m=\u001b[0m\u001b[0mtf\u001b[0m\u001b[1;33m.\u001b[0m\u001b[0mcast\u001b[0m\u001b[1;33m(\u001b[0m\u001b[0mdata\u001b[0m\u001b[1;33m,\u001b[0m \u001b[0mtf\u001b[0m\u001b[1;33m.\u001b[0m\u001b[0mfloat32\u001b[0m\u001b[1;33m)\u001b[0m\u001b[1;33m,\u001b[0m\u001b[1;33m\u001b[0m\u001b[1;33m\u001b[0m\u001b[0m\n",
      "\u001b[1;32mc:\\program files\\python37\\virtual_environments\\tf210_gpu_env\\lib\\site-packages\\tensorflow_core\\python\\ops\\check_ops.py\u001b[0m in \u001b[0;36massert_scalar_v2\u001b[1;34m(tensor, message, name)\u001b[0m\n\u001b[0;32m   2066\u001b[0m       \u001b[0munknown\u001b[0m\u001b[1;33m.\u001b[0m\u001b[1;33m\u001b[0m\u001b[1;33m\u001b[0m\u001b[0m\n\u001b[0;32m   2067\u001b[0m   \"\"\"\n\u001b[1;32m-> 2068\u001b[1;33m   \u001b[0massert_scalar\u001b[0m\u001b[1;33m(\u001b[0m\u001b[0mtensor\u001b[0m\u001b[1;33m=\u001b[0m\u001b[0mtensor\u001b[0m\u001b[1;33m,\u001b[0m \u001b[0mmessage\u001b[0m\u001b[1;33m=\u001b[0m\u001b[0mmessage\u001b[0m\u001b[1;33m,\u001b[0m \u001b[0mname\u001b[0m\u001b[1;33m=\u001b[0m\u001b[0mname\u001b[0m\u001b[1;33m)\u001b[0m\u001b[1;33m\u001b[0m\u001b[1;33m\u001b[0m\u001b[0m\n\u001b[0m\u001b[0;32m   2069\u001b[0m \u001b[1;33m\u001b[0m\u001b[0m\n\u001b[0;32m   2070\u001b[0m \u001b[1;33m\u001b[0m\u001b[0m\n",
      "\u001b[1;32mc:\\program files\\python37\\virtual_environments\\tf210_gpu_env\\lib\\site-packages\\tensorflow_core\\python\\ops\\check_ops.py\u001b[0m in \u001b[0;36massert_scalar\u001b[1;34m(tensor, name, message)\u001b[0m\n\u001b[0;32m   2096\u001b[0m       \u001b[1;32mif\u001b[0m \u001b[0mcontext\u001b[0m\u001b[1;33m.\u001b[0m\u001b[0mexecuting_eagerly\u001b[0m\u001b[1;33m(\u001b[0m\u001b[1;33m)\u001b[0m\u001b[1;33m:\u001b[0m\u001b[1;33m\u001b[0m\u001b[1;33m\u001b[0m\u001b[0m\n\u001b[0;32m   2097\u001b[0m         raise ValueError('%sExpected scalar shape, saw shape: %s.'\n\u001b[1;32m-> 2098\u001b[1;33m                          % (message or '', shape,))\n\u001b[0m\u001b[0;32m   2099\u001b[0m       \u001b[1;32melse\u001b[0m\u001b[1;33m:\u001b[0m\u001b[1;33m\u001b[0m\u001b[1;33m\u001b[0m\u001b[0m\n\u001b[0;32m   2100\u001b[0m         raise ValueError('%sExpected scalar shape for %s, saw shape: %s.'\n",
      "\u001b[1;31mValueError\u001b[0m: Expected scalar shape, saw shape: (8,)."
     ]
    }
   ],
   "source": [
    "gan_cvae.train(gan_cvae_train_conf)\n",
    "assert(False)"
   ]
  },
  {
   "cell_type": "markdown",
   "metadata": {},
   "source": [
    "# GAN"
   ]
  },
  {
   "cell_type": "markdown",
   "metadata": {},
   "source": [
    "**Model Arquitecture**"
   ]
  },
  {
   "cell_type": "code",
   "execution_count": null,
   "metadata": {},
   "outputs": [],
   "source": [
    "N_H = 64\n",
    "N_W = 64\n",
    "N_C = 1\n",
    "\n",
    "gan_gen_deconvs = [(512,True,cdb.r_act,3,2),\n",
    "               (256,True,cdb.r_act,3,2),\n",
    "               (128,True,cdb.r_act,3,2),\n",
    "               (64,True,cdb.r_act,3,2),\n",
    "               (N_C,False,cdb.th_act,3,2)]\n",
    "\n",
    "gan_disc_convs = [(64,False,cdb.lr_act,3,2),\n",
    "              (128,True,cdb.lr_act,3,2),\n",
    "              (256,True,cdb.lr_act,3,2),\n",
    "             (512,True,cdb.lr_act,3,2)]\n",
    "\n",
    "n_gan_gen_deconv_ls = len(gan_gen_deconvs)\n",
    "n_cvae_conv_ls = len(cvae_enc_convs)\n",
    "\n",
    "max_layers = cu.max_conv_deconv_layers(N_H)\n",
    "assert (n_cvae_conv_ls<=max_layers and n_gan_gen_deconv_ls<=max_layers), \"Incorrect number of layers for cvae model\"\n",
    "\n",
    "config = {\n",
    "    md.batch_size_k: 16,\n",
    "    md.latent_dim_k: 100,\n",
    "    md.data_dir_patt_k: [\"data_FVC2006\",\"png\"],\n",
    "    md.fps_shape_k: (N_H,N_W,N_C)\n",
    "}\n",
    "\n",
    "hw_f_v = N_H/np.power(2,n_cvae_deconv_ls)\n",
    "\n",
    "gan_gen_config = {\n",
    "    cdb.dec_den_info_k: ([hw_f_v,hw_f_v,256],False,cdb.r_act,(config[md.latent_dim_k],)),\n",
    "    cdb.enc_dec_lys_info_k: gan_gen_deconvs,\n",
    "}\n",
    "\n",
    "gan_disc_config = {\n",
    "    cdb.fps_shape_k: config[md.fps_shape_k],\n",
    "    cdb.enc_dec_lys_info_k: gan_disc_convs,\n",
    "    cdb.enc_fin_den_len_k: 1\n",
    "}"
   ]
  },
  {
   "cell_type": "markdown",
   "metadata": {},
   "source": [
    "**Creation of Model**"
   ]
  },
  {
   "cell_type": "code",
   "execution_count": null,
   "metadata": {},
   "outputs": [],
   "source": [
    "gan = md.GAN(gan_gen_config,gan_disc_config,config,run_description)"
   ]
  },
  {
   "cell_type": "markdown",
   "metadata": {},
   "source": [
    "**GAN Training Configuration**"
   ]
  },
  {
   "cell_type": "code",
   "execution_count": null,
   "metadata": {},
   "outputs": [],
   "source": [
    "gan_train_conf = {\n",
    "    md.num_epochs_k: 5,\n",
    "    md.num_images_k: 5,\n",
    "    md.checkpoints_frecuency_k: 5,\n",
    "    md.use_latest_checkpoint_k: False,\n",
    "    md.disc_learning_rate_k: 0.0002,\n",
    "    md.gen_learning_rate_k: 0.0002,\n",
    "    md.dataset_k: ds_data_dirs,\n",
    "}"
   ]
  },
  {
   "cell_type": "markdown",
   "metadata": {},
   "source": [
    "**Model Training**"
   ]
  },
  {
   "cell_type": "code",
   "execution_count": null,
   "metadata": {},
   "outputs": [],
   "source": [
    "gan.train(gan_train_conf)"
   ]
  },
  {
   "cell_type": "markdown",
   "metadata": {},
   "source": [
    "**Remove Files**"
   ]
  },
  {
   "cell_type": "code",
   "execution_count": null,
   "metadata": {},
   "outputs": [],
   "source": [
    "import cris_utils as cu\n",
    "code_dir = \"C:/Users/Y50/Documents/Universidad/Tesis/Codigo/Output_data/*\"\n",
    "cu.delete_All(code_dir)"
   ]
  },
  {
   "cell_type": "markdown",
   "metadata": {},
   "source": [
    "**Test Code**"
   ]
  },
  {
   "cell_type": "code",
   "execution_count": null,
   "metadata": {},
   "outputs": [],
   "source": []
  }
 ],
 "metadata": {
  "kernelspec": {
   "display_name": "Python 3",
   "language": "python",
   "name": "python3"
  },
  "language_info": {
   "codemirror_mode": {
    "name": "ipython",
    "version": 3
   },
   "file_extension": ".py",
   "mimetype": "text/x-python",
   "name": "python",
   "nbconvert_exporter": "python",
   "pygments_lexer": "ipython3",
   "version": "3.7.6"
  }
 },
 "nbformat": 4,
 "nbformat_minor": 4
}
