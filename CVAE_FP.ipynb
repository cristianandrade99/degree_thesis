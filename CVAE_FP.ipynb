{
 "cells": [
  {
   "cell_type": "markdown",
   "metadata": {},
   "source": [
    "**Libraries**"
   ]
  },
  {
   "cell_type": "code",
   "execution_count": 1,
   "metadata": {},
   "outputs": [],
   "source": [
    "import tensorflow as tf\n",
    "from tensorflow.keras import layers\n",
    "import matplotlib.pyplot as plt\n",
    "import numpy as np\n",
    "\n",
    "import cris_utils as cu\n",
    "import data_processing as dp\n",
    "import conv_deconv_blocks as cdb\n",
    "import cvae_model as md"
   ]
  },
  {
   "cell_type": "markdown",
   "metadata": {},
   "source": [
    "**Tensorflow GPU Verification**"
   ]
  },
  {
   "cell_type": "code",
   "execution_count": 2,
   "metadata": {},
   "outputs": [
    {
     "name": "stdout",
     "output_type": "stream",
     "text": [
      "\n",
      " Versión de tensorflow: 2.1.0 \n",
      "\n",
      "Comprobación de la GPU: [PhysicalDevice(name='/physical_device:GPU:0', device_type='GPU')] \n",
      "\n"
     ]
    }
   ],
   "source": [
    "print(\"\\n\",\"Versión de tensorflow: \" + str(tf.__version__),\"\\n\")\n",
    "print(\"Comprobación de la GPU:\",tf.config.experimental.list_physical_devices('GPU'),\"\\n\")"
   ]
  },
  {
   "cell_type": "markdown",
   "metadata": {},
   "source": [
    "# CVAE"
   ]
  },
  {
   "cell_type": "markdown",
   "metadata": {},
   "source": [
    "**Model Arquitecture**"
   ]
  },
  {
   "cell_type": "code",
   "execution_count": 3,
   "metadata": {},
   "outputs": [
    {
     "name": "stdout",
     "output_type": "stream",
     "text": [
      "for H,W = 64, # deconv layers and # conv layers <= 6\n",
      "(# conv layers, heigh,width of last enc volume)\n",
      "(# deconv layers, heigh,width of first dec volume)\n",
      "[(1, 32), (2, 16), (3, 8), (4, 4), (5, 2), (6, 1)] \n",
      "\n"
     ]
    }
   ],
   "source": [
    "N_H = 64\n",
    "N_W = 64\n",
    "N_C = 1\n",
    "\n",
    "enc_convs = [(16,False,cdb.lr_act,3,2),\n",
    "              (32,False,cdb.lr_act,3,2),\n",
    "              (64,False,cdb.lr_act,3,2),\n",
    "             (128,False,cdb.lr_act,3,2),\n",
    "             (256,False,cdb.lr_act,3,2)]\n",
    "\n",
    "dec_deconvs = [(256,False,cdb.r_act,3,2),\n",
    "               (128,False,cdb.r_act,3,2),\n",
    "               (64,False,cdb.r_act,3,2),\n",
    "               (32,False,cdb.r_act,3,2),\n",
    "               (N_C,False,cdb.th_act,3,2)]\n",
    "\n",
    "n_conv_ls = len(enc_convs)\n",
    "n_deconv_ls = len(dec_deconvs)\n",
    "\n",
    "max_layers = cu.max_conv_deconv_layers(N_H)\n",
    "assert (n_deconv_ls<=max_layers and n_conv_ls<=max_layers), \"Incorrect number of layers for generator or discriminator\"\n",
    "\n",
    "config = {\n",
    "    md.batch_size_k: 16,\n",
    "    md.latent_dim_k: 32,\n",
    "    md.adam_alpha_k: 1e-4,\n",
    "    \n",
    "    md.data_dir_patt_k:[\"FVC2006\",\".png\"],\n",
    "    md.checkpoints_folder_k: \"./Checkpoints/\",\n",
    "    md.max_checkpoints_k: 2\n",
    "}\n",
    "\n",
    "enc_config = {\n",
    "    cdb.input_shape_k: (N_H,N_W,N_C),\n",
    "    cdb.enc_dec_lys_info_k: enc_convs,\n",
    "    cdb.enc_fin_den_len_k: 2*config[md.latent_dim_k]\n",
    "}\n",
    "\n",
    "hw_f_v = N_H/np.power(2,n_deconv_ls)\n",
    "\n",
    "dec_config = {\n",
    "    cdb.dec_den_info_k: ([hw_f_v,hw_f_v,256],False,cdb.r_act,(config[md.latent_dim_k],)),\n",
    "    cdb.enc_dec_lys_info_k: dec_deconvs,\n",
    "}"
   ]
  },
  {
   "cell_type": "markdown",
   "metadata": {},
   "source": [
    "**Data Preparation**"
   ]
  },
  {
   "cell_type": "code",
   "execution_count": 4,
   "metadata": {},
   "outputs": [
    {
     "name": "stdout",
     "output_type": "stream",
     "text": [
      "\n",
      "Fingerprints Loaded: 1800 from: FVC2006 \n",
      "\n",
      "Batches Created: 113\n",
      "shape of batch: (16, 64, 64, 1) \n",
      "\n"
     ]
    }
   ],
   "source": [
    "ds_data_dirs = dp.load_process_fp_dataset(config[md.data_dir_patt_k],enc_config[cdb.input_shape_k],config[md.batch_size_k])\n",
    "#l = list(ds_data_dirs.as_numpy_iterator())\n",
    "#cu.imshow(l[0][0,:])"
   ]
  },
  {
   "cell_type": "markdown",
   "metadata": {},
   "source": [
    "**Creation of Model**"
   ]
  },
  {
   "cell_type": "code",
   "execution_count": 5,
   "metadata": {},
   "outputs": [],
   "source": [
    "cvae = md.CVAE(enc_config,dec_config,config)"
   ]
  },
  {
   "cell_type": "code",
   "execution_count": 6,
   "metadata": {},
   "outputs": [],
   "source": [
    "#print(cvae.encoder.summary())\n",
    "#print(cvae.decoder.summary())"
   ]
  },
  {
   "cell_type": "markdown",
   "metadata": {},
   "source": [
    "**Training Configuration**"
   ]
  },
  {
   "cell_type": "code",
   "execution_count": 7,
   "metadata": {},
   "outputs": [],
   "source": [
    "train_conf = {\n",
    "    md.num_epochs_k: 2,\n",
    "    md.types_losses_k: [md.square_loss,md.kl_loss,md.ssim_loss],\n",
    "    md.alphas_losses_k: [1,0.005,0.5],\n",
    "    md.dataset_k: ds_data_dirs,\n",
    "    \n",
    "    md.create_checkpoints_k: False,\n",
    "    md.use_latest_checkpoint_k: False,\n",
    "    md.percent_progress_savings_k: [50,100],\n",
    "    md.num_images_k: 2,\n",
    "    md.tensorboard_folder_name_k:\"Tensorboard_logs\"\n",
    "}"
   ]
  },
  {
   "cell_type": "markdown",
   "metadata": {},
   "source": [
    "**Training**"
   ]
  },
  {
   "cell_type": "code",
   "execution_count": 8,
   "metadata": {},
   "outputs": [
    {
     "name": "stdout",
     "output_type": "stream",
     "text": [
      "training started\n",
      "Epoch 1: 8.35 s\n",
      "Epoch 2: 4.71 s\n",
      "training finished\n"
     ]
    }
   ],
   "source": [
    "cvae.train(train_conf)"
   ]
  },
  {
   "cell_type": "markdown",
   "metadata": {},
   "source": [
    "**Code Testing**"
   ]
  },
  {
   "cell_type": "code",
   "execution_count": null,
   "metadata": {},
   "outputs": [],
   "source": []
  },
  {
   "cell_type": "markdown",
   "metadata": {},
   "source": [
    "**Remove Files**"
   ]
  },
  {
   "cell_type": "code",
   "execution_count": 9,
   "metadata": {
    "scrolled": true
   },
   "outputs": [
    {
     "name": "stdout",
     "output_type": "stream",
     "text": [
      "Are you sure you want to delete this? \n",
      "\n",
      "C:/Users/Y50/Documents/Universidad/Tesis/Codigo/Local/Tensorboard_logs\\20200220-085929\n",
      "Type y or n: n\n"
     ]
    }
   ],
   "source": [
    "import cris_utils as cu\n",
    "cu.delete_All(\"C:/Users/Y50/Documents/Universidad/Tesis/Codigo/Local/Tensorboard_logs/*\")"
   ]
  }
 ],
 "metadata": {
  "kernelspec": {
   "display_name": "Python 3",
   "language": "python",
   "name": "python3"
  },
  "language_info": {
   "codemirror_mode": {
    "name": "ipython",
    "version": 3
   },
   "file_extension": ".py",
   "mimetype": "text/x-python",
   "name": "python",
   "nbconvert_exporter": "python",
   "pygments_lexer": "ipython3",
   "version": "3.7.6"
  }
 },
 "nbformat": 4,
 "nbformat_minor": 4
}
