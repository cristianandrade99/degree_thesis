{
 "cells": [
  {
   "cell_type": "markdown",
   "metadata": {},
   "source": [
    "**Libraries**"
   ]
  },
  {
   "cell_type": "code",
   "execution_count": 1,
   "metadata": {},
   "outputs": [],
   "source": [
    "import tensorflow as tf\n",
    "from tensorflow.keras import layers\n",
    "import matplotlib.pyplot as plt\n",
    "import numpy as np\n",
    "\n",
    "import cris_utils as cu\n",
    "import data_processing as dp\n",
    "import conv_deconv_blocks as cdb\n",
    "import cvae_model as md"
   ]
  },
  {
   "cell_type": "markdown",
   "metadata": {},
   "source": [
    "**Tensorflow GPU Verification**"
   ]
  },
  {
   "cell_type": "code",
   "execution_count": 2,
   "metadata": {},
   "outputs": [
    {
     "name": "stdout",
     "output_type": "stream",
     "text": [
      "Versión de tensorflow: 2.1.0\n",
      "Comprobación de la GPU: [PhysicalDevice(name='/physical_device:GPU:0', device_type='GPU')]\n"
     ]
    }
   ],
   "source": [
    "print(\"Versión de tensorflow: \" + str(tf.__version__))\n",
    "print(\"Comprobación de la GPU:\",tf.config.experimental.list_physical_devices('GPU'))"
   ]
  },
  {
   "cell_type": "markdown",
   "metadata": {},
   "source": [
    "# CVAE"
   ]
  },
  {
   "cell_type": "markdown",
   "metadata": {},
   "source": [
    "**Model Arquitecture**"
   ]
  },
  {
   "cell_type": "code",
   "execution_count": 3,
   "metadata": {},
   "outputs": [
    {
     "name": "stdout",
     "output_type": "stream",
     "text": [
      "for H,W = 28, # deconv layers and # conv layers <= 4 \n",
      "\n",
      "(# conv layers, heigh,width of last enc volume)\n",
      "(# deconv layers, heigh,width of first dec volume)\n",
      "[(1, 14), (2, 7), (3, 3), (4, 1)]\n"
     ]
    }
   ],
   "source": [
    "N_H = 28\n",
    "N_W = 28\n",
    "N_C = 1\n",
    "\n",
    "enc_convs = [(32,False,cdb.r_act,3,2),\n",
    "             (64,False,cdb.r_act,3,2)]\n",
    "\n",
    "dec_deconvs = [(64,False,cdb.r_act,3,2),\n",
    "               (32,False,cdb.r_act,3,2),\n",
    "               (N_C,False,None,3,1)]\n",
    "\n",
    "n_conv_ls = len(enc_convs)\n",
    "n_deconv_ls = len(dec_deconvs)\n",
    "\n",
    "max_layers = cu.max_conv_deconv_layers(N_H)\n",
    "assert (n_deconv_ls<=max_layers and n_conv_ls<=max_layers), \"Incorrect number of layers for generator or discriminator\"\n",
    "\n",
    "config = {\n",
    "    md.batch_size_k: 100,\n",
    "    md.latent_dim_k: 50,\n",
    "    md.adam_alpha_k: 1e-4,\n",
    "    \n",
    "    md.checkpoints_folder_k: \"./Checkpoints/\",\n",
    "    md.images_folder_k: \"./Images/\",\n",
    "    md.max_checkpoints_k: 2\n",
    "}\n",
    "\n",
    "enc_config = {\n",
    "    cdb.input_shape_k: (N_H,N_W,N_C),\n",
    "    cdb.enc_dec_lys_info_k: enc_convs,\n",
    "    cdb.enc_fin_den_len_k: 2*config[md.latent_dim_k]\n",
    "}\n",
    "\n",
    "hw_f_v = N_H/np.power(2,n_deconv_ls)\n",
    "\n",
    "dec_config = {\n",
    "    cdb.dec_den_info_k: ([7,7,32],False,cdb.r_act,(config[md.latent_dim_k],)),\n",
    "    cdb.enc_dec_lys_info_k: dec_deconvs,\n",
    "}"
   ]
  },
  {
   "cell_type": "markdown",
   "metadata": {},
   "source": [
    "**Data Preparation**"
   ]
  },
  {
   "cell_type": "code",
   "execution_count": 4,
   "metadata": {},
   "outputs": [
    {
     "data": {
      "image/png": "[encoded data removed]",
      "text/plain": [
       "<Figure size 432x288 with 1 Axes>"
      ]
     },
     "metadata": {
      "needs_background": "light"
     },
     "output_type": "display_data"
    }
   ],
   "source": [
    "(train_images, train_labels), (_, _) = tf.keras.datasets.mnist.load_data()\n",
    "train_images = train_images.reshape(train_images.shape[0], 28, 28, 1).astype('float32')\n",
    "#train_images = (train_images - 127.5) / 127.5 # Normalize the images to [-1, 1]\n",
    "train_images = train_images/255 # Normalize the images to [0, 1]\n",
    "\n",
    "ti_rs = tf.image.resize(train_images, [N_H, N_W],preserve_aspect_ratio=False)\n",
    "train_dataset = tf.data.Dataset.from_tensor_slices(ti_rs).batch(config[md.batch_size_k])\n",
    "\n",
    "l = list(train_dataset.as_numpy_iterator())\n",
    "\n",
    "cu.imshow(l[0][0,:])"
   ]
  },
  {
   "cell_type": "markdown",
   "metadata": {},
   "source": [
    "**Creation of Model**"
   ]
  },
  {
   "cell_type": "code",
   "execution_count": 5,
   "metadata": {},
   "outputs": [],
   "source": [
    "cvae = md.CVAE(enc_config,dec_config,config)"
   ]
  },
  {
   "cell_type": "code",
   "execution_count": 6,
   "metadata": {},
   "outputs": [
    {
     "name": "stdout",
     "output_type": "stream",
     "text": [
      "Model: \"sequential\"\n",
      "_________________________________________________________________\n",
      "Layer (type)                 Output Shape              Param #   \n",
      "=================================================================\n",
      "conv2d_1 (Conv2D)            (None, 14, 14, 32)        320       \n",
      "_________________________________________________________________\n",
      "re_lu (ReLU)                 (None, 14, 14, 32)        0         \n",
      "_________________________________________________________________\n",
      "conv2d_2 (Conv2D)            (None, 7, 7, 64)          18496     \n",
      "_________________________________________________________________\n",
      "re_lu_1 (ReLU)               (None, 7, 7, 64)          0         \n",
      "_________________________________________________________________\n",
      "flatten (Flatten)            (None, 3136)              0         \n",
      "_________________________________________________________________\n",
      "dense (Dense)                (None, 100)               313700    \n",
      "=================================================================\n",
      "Total params: 332,516\n",
      "Trainable params: 332,516\n",
      "Non-trainable params: 0\n",
      "_________________________________________________________________\n",
      "None\n",
      "Model: \"sequential_1\"\n",
      "_________________________________________________________________\n",
      "Layer (type)                 Output Shape              Param #   \n",
      "=================================================================\n",
      "dense_1 (Dense)              (None, 1568)              79968     \n",
      "_________________________________________________________________\n",
      "re_lu_2 (ReLU)               (None, 1568)              0         \n",
      "_________________________________________________________________\n",
      "reshape (Reshape)            (None, 7, 7, 32)          0         \n",
      "_________________________________________________________________\n",
      "conv2d_transpose (Conv2DTran (None, 14, 14, 64)        18496     \n",
      "_________________________________________________________________\n",
      "re_lu_3 (ReLU)               (None, 14, 14, 64)        0         \n",
      "_________________________________________________________________\n",
      "conv2d_transpose_1 (Conv2DTr (None, 28, 28, 32)        18464     \n",
      "_________________________________________________________________\n",
      "re_lu_4 (ReLU)               (None, 28, 28, 32)        0         \n",
      "_________________________________________________________________\n",
      "conv2d_transpose_2 (Conv2DTr (None, 28, 28, 1)         289       \n",
      "=================================================================\n",
      "Total params: 117,217\n",
      "Trainable params: 117,217\n",
      "Non-trainable params: 0\n",
      "_________________________________________________________________\n",
      "None\n"
     ]
    }
   ],
   "source": [
    "print(cvae.encoder.summary())\n",
    "print(cvae.decoder.summary())"
   ]
  },
  {
   "cell_type": "markdown",
   "metadata": {},
   "source": [
    "**Training Configuration**"
   ]
  },
  {
   "cell_type": "code",
   "execution_count": 7,
   "metadata": {},
   "outputs": [],
   "source": [
    "train_conf = {\n",
    "    md.num_epochs_k: 4,\n",
    "    md.alpha_kl_k: 0.05,\n",
    "    md.reconstruction_loss_k: md.cross_loss,\n",
    "    md.dataset_k: train_dataset,\n",
    "    md.time_measures_k: 1,\n",
    "    md.create_checkpoints_k: False,\n",
    "    md.use_latest_checkpoint_k: False,\n",
    "    md.percent_progress_savings_k: [50,100],\n",
    "    md.num_images_k: 4\n",
    "}"
   ]
  },
  {
   "cell_type": "markdown",
   "metadata": {},
   "source": [
    "**Training**"
   ]
  },
  {
   "cell_type": "code",
   "execution_count": 8,
   "metadata": {},
   "outputs": [
    {
     "name": "stdout",
     "output_type": "stream",
     "text": [
      "Time for epoch 1 is 14.5 sec\n",
      "Time for epoch 2 is 12.2 sec\n"
     ]
    },
    {
     "name": "stderr",
     "output_type": "stream",
     "text": [
      "C:\\Users\\Y50\\Documents\\Universidad\\Tesis\\Codigo\\cvae_model.py:139: MatplotlibDeprecationWarning: Adding an axes using the same arguments as a previous axes currently reuses the earlier instance.  In a future version, a new instance will always be created and returned.  Meanwhile, this warning can be suppressed, and the future behavior ensured, by passing a unique label to each axes instance.\n",
      "  plt.subplot(num_images,2,1+2*im_index)\n",
      "C:\\Users\\Y50\\Documents\\Universidad\\Tesis\\Codigo\\cvae_model.py:148: MatplotlibDeprecationWarning: Adding an axes using the same arguments as a previous axes currently reuses the earlier instance.  In a future version, a new instance will always be created and returned.  Meanwhile, this warning can be suppressed, and the future behavior ensured, by passing a unique label to each axes instance.\n",
      "  plt.subplot(num_images,2,2*(im_index+1))\n"
     ]
    },
    {
     "name": "stdout",
     "output_type": "stream",
     "text": [
      "Time for epoch 3 is 12.19 sec\n",
      "Time for epoch 4 is 12.2 sec\n"
     ]
    },
    {
     "data": {
      "image/png": "[encoded data removed]",
      "text/plain": [
       "<Figure size 432x288 with 8 Axes>"
      ]
     },
     "metadata": {
      "needs_background": "light"
     },
     "output_type": "display_data"
    }
   ],
   "source": [
    "cvae.train(train_conf)"
   ]
  },
  {
   "cell_type": "code",
   "execution_count": 9,
   "metadata": {},
   "outputs": [
    {
     "data": {
      "image/png": "[encoded data removed]",
      "text/plain": [
       "<Figure size 432x288 with 3 Axes>"
      ]
     },
     "metadata": {
      "needs_background": "light"
     },
     "output_type": "display_data"
    }
   ],
   "source": [
    "cvae.graph_costs()"
   ]
  },
  {
   "cell_type": "markdown",
   "metadata": {},
   "source": [
    "**Code Testing**"
   ]
  },
  {
   "cell_type": "code",
   "execution_count": 10,
   "metadata": {},
   "outputs": [
    {
     "data": {
      "image/png": "[encoded data removed]",
      "text/plain": [
       "<Figure size 432x288 with 1 Axes>"
      ]
     },
     "metadata": {
      "needs_background": "light"
     },
     "output_type": "display_data"
    },
    {
     "data": {
      "image/png": "[encoded data removed]",
      "text/plain": [
       "<Figure size 432x288 with 1 Axes>"
      ]
     },
     "metadata": {
      "needs_background": "light"
     },
     "output_type": "display_data"
    }
   ],
   "source": [
    "indice = 1\n",
    "indice2 = 3\n",
    "_,_,out = cvae.encode_decode_images(l[indice])\n",
    "cu.imshow(l[indice][indice2,:])\n",
    "cu.imshow(tf.math.sigmoid(out[indice2,:]).numpy())"
   ]
  },
  {
   "cell_type": "code",
   "execution_count": 16,
   "metadata": {},
   "outputs": [
    {
     "data": {
      "image/png": "[encoded data removed]",
      "text/plain": [
       "<Figure size 432x288 with 1 Axes>"
      ]
     },
     "metadata": {
      "needs_background": "light"
     },
     "output_type": "display_data"
    }
   ],
   "source": [
    "mean_logvar = cvae.encoder(l[indice])\n",
    "mean, logvar =  tf.split(mean_logvar,2,1)\n",
    "z = cvae.sampler(mean,logvar)\n",
    "\n",
    "z = tf.random.normal([100,50])\n",
    "\n",
    "sam = tf.math.sigmoid(cvae.decoder(z))\n",
    "    \n",
    "cu.imshow(sam[indice2,:].numpy())"
   ]
  }
 ],
 "metadata": {
  "kernelspec": {
   "display_name": "Python 3",
   "language": "python",
   "name": "python3"
  },
  "language_info": {
   "codemirror_mode": {
    "name": "ipython",
    "version": 3
   },
   "file_extension": ".py",
   "mimetype": "text/x-python",
   "name": "python",
   "nbconvert_exporter": "python",
   "pygments_lexer": "ipython3",
   "version": "3.7.6"
  }
 },
 "nbformat": 4,
 "nbformat_minor": 4
}
