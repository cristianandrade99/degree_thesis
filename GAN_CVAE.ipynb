{
 "cells": [
  {
   "cell_type": "markdown",
   "metadata": {},
   "source": [
    "**Libraries**"
   ]
  },
  {
   "cell_type": "code",
   "execution_count": 1,
   "metadata": {},
   "outputs": [],
   "source": [
    "import tensorflow as tf\n",
    "from tensorflow.keras import layers\n",
    "import matplotlib.pyplot as plt\n",
    "import numpy as np\n",
    "\n",
    "import conv_deconv_blocks as cdb\n",
    "import data_processing as dp\n",
    "import gan_cvae_model as md\n",
    "import cris_utils as cu"
   ]
  },
  {
   "cell_type": "markdown",
   "metadata": {},
   "source": [
    "**Tensorflow GPU Verification**"
   ]
  },
  {
   "cell_type": "code",
   "execution_count": 2,
   "metadata": {},
   "outputs": [
    {
     "name": "stdout",
     "output_type": "stream",
     "text": [
      "\n",
      " Versión de tensorflow: 2.1.0 \n",
      "\n",
      "Comprobación de la GPU: [PhysicalDevice(name='/physical_device:GPU:0', device_type='GPU')] \n",
      "\n"
     ]
    }
   ],
   "source": [
    "print(\"\\n\",\"Versión de tensorflow: \" + str(tf.__version__),\"\\n\")\n",
    "print(\"Comprobación de la GPU:\",tf.config.experimental.list_physical_devices('GPU'),\"\\n\")"
   ]
  },
  {
   "cell_type": "markdown",
   "metadata": {},
   "source": [
    "# GAN CVAE"
   ]
  },
  {
   "cell_type": "markdown",
   "metadata": {},
   "source": [
    "**Model Arquitecture**"
   ]
  },
  {
   "cell_type": "code",
   "execution_count": 3,
   "metadata": {},
   "outputs": [
    {
     "name": "stdout",
     "output_type": "stream",
     "text": [
      "for H,W = 64, # deconv layers and # conv layers <= 6\n",
      "(# conv layers, heigh,width of last enc volume)\n",
      "(# deconv layers, heigh,width of first dec volume)\n",
      "[(1, 32), (2, 16), (3, 8), (4, 4), (5, 2), (6, 1)] \n",
      "\n"
     ]
    }
   ],
   "source": [
    "N_H = 64\n",
    "N_W = 64\n",
    "N_C = 1\n",
    "\n",
    "cvae_enc_convs = [(16,False,cdb.lr_act,3,2),\n",
    "              (32,False,cdb.lr_act,3,2),\n",
    "              (64,False,cdb.lr_act,3,2),\n",
    "             (128,False,cdb.lr_act,3,2),\n",
    "             (256,False,cdb.lr_act,3,2)]\n",
    "\n",
    "cvae_dec_deconvs = [(256,False,cdb.r_act,3,2),\n",
    "               (128,False,cdb.r_act,3,2),\n",
    "               (64,False,cdb.r_act,3,2),\n",
    "               (32,False,cdb.r_act,3,2),\n",
    "               (N_C,False,cdb.th_act,3,2)]\n",
    "\n",
    "gan_disc_convs = [(16,False,cdb.lr_act,3,2),\n",
    "              (32,False,cdb.lr_act,3,2),\n",
    "              (64,False,cdb.lr_act,3,2),\n",
    "             (128,False,cdb.lr_act,3,2),\n",
    "             (256,False,cdb.lr_act,3,2)]\n",
    "\n",
    "n_cvae_conv_ls = len(cvae_enc_convs)\n",
    "n_cvae_deconv_ls = len(cvae_dec_deconvs)\n",
    "\n",
    "max_layers = cu.max_conv_deconv_layers(N_H)\n",
    "assert (n_cvae_conv_ls<=max_layers and n_cvae_deconv_ls<=max_layers), \"Incorrect number of layers for cvae model\"\n",
    "\n",
    "config = {\n",
    "    md.batch_size_k: 16,\n",
    "    md.latent_dim_k: 32,\n",
    "    md.data_dir_patt_k: [\"data_FVC2006\",\"png\"],\n",
    "    md.fps_shape_k: (N_H,N_W,N_C),\n",
    "    md.cvae_checkpoints_folder_k: \"./tf_Checkpoints/CVAE\",\n",
    "    md.gan_checkpoints_folder_k: \"./tf_Checkpoints/GAN\",\n",
    "    md.max_checkpoints_k: 2\n",
    "}\n",
    "\n",
    "cvae_enc_config = {\n",
    "    cdb.fps_shape_k: config[md.fps_shape_k],\n",
    "    cdb.enc_dec_lys_info_k: cvae_enc_convs,\n",
    "    cdb.enc_fin_den_len_k: 2*config[md.latent_dim_k]\n",
    "}\n",
    "\n",
    "hw_f_v = N_H/np.power(2,n_cvae_deconv_ls)\n",
    "\n",
    "cvae_dec_config = {\n",
    "    cdb.dec_den_info_k: ([hw_f_v,hw_f_v,256],False,cdb.r_act,(config[md.latent_dim_k],)),\n",
    "    cdb.enc_dec_lys_info_k: cvae_dec_deconvs,\n",
    "}\n",
    "\n",
    "gan_disc_config = {\n",
    "    cdb.fps_shape_k: config[md.fps_shape_k],\n",
    "    cdb.enc_dec_lys_info_k: gan_disc_convs,\n",
    "    cdb.enc_fin_den_len_k: 1\n",
    "}"
   ]
  },
  {
   "cell_type": "markdown",
   "metadata": {},
   "source": [
    "**Data Preparation**"
   ]
  },
  {
   "cell_type": "code",
   "execution_count": 4,
   "metadata": {},
   "outputs": [
    {
     "data": {
      "image/png": "[encoded data removed]",
      "text/plain": [
       "<Figure size 432x288 with 1 Axes>"
      ]
     },
     "metadata": {
      "needs_background": "light"
     },
     "output_type": "display_data"
    }
   ],
   "source": [
    "ds_data_dirs = dp.load_process_fp_dataset(config[md.data_dir_patt_k],config[md.fps_shape_k],config[md.batch_size_k])\n",
    "l = list(ds_data_dirs.as_numpy_iterator())\n",
    "cu.imshow(l[0][0,:])"
   ]
  },
  {
   "cell_type": "markdown",
   "metadata": {},
   "source": [
    "**Creation of Model**"
   ]
  },
  {
   "cell_type": "code",
   "execution_count": 5,
   "metadata": {},
   "outputs": [],
   "source": [
    "gan_cvae = md.GAN_CVAE(cvae_enc_config,cvae_dec_config,gan_disc_config,config)"
   ]
  },
  {
   "cell_type": "markdown",
   "metadata": {},
   "source": [
    "**Training Configuration**"
   ]
  },
  {
   "cell_type": "code",
   "execution_count": 6,
   "metadata": {},
   "outputs": [],
   "source": [
    "cvae_train_conf = {\n",
    "    md.num_epochs_k: 5,\n",
    "    md.types_losses_k: [md.square_loss,md.kl_loss,md.ssim_loss],\n",
    "    md.alphas_losses_k: [1.0,0.01,0.5],\n",
    "    md.dataset_k: ds_data_dirs,\n",
    "    md.use_latest_checkpoint_k: False,\n",
    "    md.tensorboard_folder_k: \"./tf_Tensorboard_logs\",\n",
    "    md.out_images_folder_k: \"./img_Performance_Images\",\n",
    "    md.checkpoints_frecuency_k: 2,\n",
    "    md.num_images_k: 2\n",
    "}"
   ]
  },
  {
   "cell_type": "markdown",
   "metadata": {},
   "source": [
    "**Training**"
   ]
  },
  {
   "cell_type": "code",
   "execution_count": 7,
   "metadata": {},
   "outputs": [
    {
     "name": "stdout",
     "output_type": "stream",
     "text": [
      "CVAE training started\n",
      "Training finished\n",
      "Training total time: 32.47277522087097\n",
      "Average time per epoch: 6.494555044174194\n"
     ]
    }
   ],
   "source": [
    "gan_cvae.cvae_train(cvae_train_conf)"
   ]
  },
  {
   "cell_type": "markdown",
   "metadata": {},
   "source": [
    "**Remove Files**"
   ]
  },
  {
   "cell_type": "code",
   "execution_count": 9,
   "metadata": {},
   "outputs": [
    {
     "name": "stdout",
     "output_type": "stream",
     "text": [
      "Are you sure you want to delete this? \n",
      "\n",
      "C:/Users/Y50/Documents/Universidad/Tesis/Codigo/tf_Tensorboard_logs\\27-02-2020_02-59-59-PM\n",
      "Type y or n: y\n",
      "\n",
      " Deleted Files\n",
      "Are you sure you want to delete this? \n",
      "\n",
      "C:/Users/Y50/Documents/Universidad/Tesis/Codigo/tf_Checkpoints/CVAE\\checkpoint\n",
      "C:/Users/Y50/Documents/Universidad/Tesis/Codigo/tf_Checkpoints/CVAE\\ckpt-1.data-00000-of-00002\n",
      "C:/Users/Y50/Documents/Universidad/Tesis/Codigo/tf_Checkpoints/CVAE\\ckpt-1.data-00001-of-00002\n",
      "C:/Users/Y50/Documents/Universidad/Tesis/Codigo/tf_Checkpoints/CVAE\\ckpt-1.index\n",
      "C:/Users/Y50/Documents/Universidad/Tesis/Codigo/tf_Checkpoints/CVAE\\ckpt-2.data-00000-of-00002\n",
      "C:/Users/Y50/Documents/Universidad/Tesis/Codigo/tf_Checkpoints/CVAE\\ckpt-2.data-00001-of-00002\n",
      "C:/Users/Y50/Documents/Universidad/Tesis/Codigo/tf_Checkpoints/CVAE\\ckpt-2.index\n",
      "Type y or n: y\n",
      "\n",
      " Deleted Files\n",
      "Are you sure you want to delete this? \n",
      "\n",
      "Type y or n: n\n",
      "Are you sure you want to delete this? \n",
      "\n",
      "C:/Users/Y50/Documents/Universidad/Tesis/Codigo/img_Performance_Images\\fp_at_epoch__5.png\n",
      "Type y or n: y\n",
      "\n",
      " Deleted Files\n"
     ]
    }
   ],
   "source": [
    "import cris_utils as cu\n",
    "cu.delete_All(\"C:/Users/Y50/Documents/Universidad/Tesis/Codigo/tf_Tensorboard_logs/*\")\n",
    "cu.delete_All(\"C:/Users/Y50/Documents/Universidad/Tesis/Codigo/tf_Checkpoints/CVAE/*\")\n",
    "cu.delete_All(\"C:/Users/Y50/Documents/Universidad/Tesis/Codigo/tf_Checkpoints/GAN/*\")\n",
    "cu.delete_All(\"C:/Users/Y50/Documents/Universidad/Tesis/Codigo/img_Performance_Images/*\")"
   ]
  },
  {
   "cell_type": "markdown",
   "metadata": {},
   "source": [
    "**Test Code**"
   ]
  },
  {
   "cell_type": "code",
   "execution_count": null,
   "metadata": {},
   "outputs": [],
   "source": []
  }
 ],
 "metadata": {
  "kernelspec": {
   "display_name": "Python 3",
   "language": "python",
   "name": "python3"
  },
  "language_info": {
   "codemirror_mode": {
    "name": "ipython",
    "version": 3
   },
   "file_extension": ".py",
   "mimetype": "text/x-python",
   "name": "python",
   "nbconvert_exporter": "python",
   "pygments_lexer": "ipython3",
   "version": "3.7.6"
  }
 },
 "nbformat": 4,
 "nbformat_minor": 4
}
